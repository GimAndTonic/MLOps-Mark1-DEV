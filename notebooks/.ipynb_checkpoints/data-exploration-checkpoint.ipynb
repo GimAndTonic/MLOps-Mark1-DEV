{
 "cells": [
  {
   "cell_type": "code",
   "execution_count": 17,
   "metadata": {},
   "outputs": [],
   "source": [
    "import pandas as pd"
   ]
  },
  {
   "cell_type": "markdown",
   "metadata": {},
   "source": [
    "# Login Information\n",
    "### Read secrets"
   ]
  },
  {
   "cell_type": "code",
   "execution_count": 3,
   "metadata": {},
   "outputs": [],
   "source": [
    "import json\n",
    "f = open('../secrets/splunk.json')\n",
    "k = json.load(f)"
   ]
  },
  {
   "cell_type": "code",
   "execution_count": 4,
   "metadata": {},
   "outputs": [],
   "source": [
    "HOST  = k['HOST']\n",
    "PORT  = k['PORT']\n",
    "TOKEN = k['TOKEN']\n",
    "#USER = k['USER']\n",
    "#PASS = k['PASS']"
   ]
  },
  {
   "cell_type": "markdown",
   "metadata": {},
   "source": [
    "### Write secrets"
   ]
  },
  {
   "cell_type": "code",
   "execution_count": 5,
   "metadata": {},
   "outputs": [],
   "source": [
    "#k = {\n",
    "#    \"HOST\"  : HOST,\n",
    "#    \"PORT\"  : PORT,\n",
    "#    \"TOKEN\" : TOKEN,\n",
    "#    \"USER\"  : USER,\n",
    "#    \"PASS\"  : PASS\n",
    "#}\n",
    "\n",
    "#import json\n",
    "#with open('../secrets/splunk.json', 'w') as fp:\n",
    "#    json.dump(k, fp)"
   ]
  },
  {
   "cell_type": "markdown",
   "metadata": {},
   "source": [
    "# Fetch data from Splunk"
   ]
  },
  {
   "cell_type": "code",
   "execution_count": 6,
   "metadata": {},
   "outputs": [],
   "source": [
    "import splunklib.client as client\n",
    "import splunklib.results as results\n",
    "\n",
    "from time import sleep"
   ]
  },
  {
   "cell_type": "markdown",
   "metadata": {},
   "source": [
    "### Connect to Splunk"
   ]
  },
  {
   "cell_type": "code",
   "execution_count": 7,
   "metadata": {},
   "outputs": [],
   "source": [
    "service = client.connect(\n",
    "    host     = HOST,\n",
    "    port     = PORT,\n",
    "    token    = TOKEN,\n",
    "#    username = USER,\n",
    "#    password = PASS\n",
    ")"
   ]
  },
  {
   "cell_type": "markdown",
   "metadata": {},
   "source": [
    "### Search"
   ]
  },
  {
   "cell_type": "code",
   "execution_count": 12,
   "metadata": {},
   "outputs": [
    {
     "name": "stdout",
     "output_type": "stream",
     "text": [
      "INFO: Successfully read lookup file '/opt/splunk/etc/users/admin/search/lookups/iris-data.csv'.\n",
      "False\n"
     ]
    }
   ],
   "source": [
    "SEARCH = \"inputlookup iris-data.csv\"\n",
    "\n",
    "# Run search job on connected service\n",
    "job = service.jobs.create(\n",
    "    SEARCH\n",
    ")\n",
    "\n",
    "# Wait for the search to end\n",
    "while not job.is_done():\n",
    "    sleep(0.2)\n",
    "\n",
    "# Read reponse\n",
    "data = results.JSONResultsReader(job.results(\n",
    "    count = 0,           # No limitations for results. Default: 100\n",
    "    output_mode='json'\n",
    "))\n",
    "\n",
    "# Save response lines into array\n",
    "vec = []\n",
    "for result in data:\n",
    "    if isinstance(result, results.Message) :\n",
    "        print('%s: %s' % (result.type, result.message))\n",
    "    elif isinstance(result, dict):\n",
    "        vec.append(result)\n",
    "print(data.is_preview)"
   ]
  },
  {
   "cell_type": "markdown",
   "metadata": {},
   "source": [
    "### Structure"
   ]
  },
  {
   "cell_type": "code",
   "execution_count": 20,
   "metadata": {},
   "outputs": [],
   "source": [
    "df = pd.DataFrame(vec).set_index('Id')"
   ]
  },
  {
   "cell_type": "code",
   "execution_count": 21,
   "metadata": {},
   "outputs": [
    {
     "data": {
      "text/html": [
       "<div>\n",
       "<style scoped>\n",
       "    .dataframe tbody tr th:only-of-type {\n",
       "        vertical-align: middle;\n",
       "    }\n",
       "\n",
       "    .dataframe tbody tr th {\n",
       "        vertical-align: top;\n",
       "    }\n",
       "\n",
       "    .dataframe thead th {\n",
       "        text-align: right;\n",
       "    }\n",
       "</style>\n",
       "<table border=\"1\" class=\"dataframe\">\n",
       "  <thead>\n",
       "    <tr style=\"text-align: right;\">\n",
       "      <th></th>\n",
       "      <th>PetalLengthCm</th>\n",
       "      <th>PetalWidthCm</th>\n",
       "      <th>SepalLengthCm</th>\n",
       "      <th>SepalWidthCm</th>\n",
       "      <th>Species</th>\n",
       "    </tr>\n",
       "    <tr>\n",
       "      <th>Id</th>\n",
       "      <th></th>\n",
       "      <th></th>\n",
       "      <th></th>\n",
       "      <th></th>\n",
       "      <th></th>\n",
       "    </tr>\n",
       "  </thead>\n",
       "  <tbody>\n",
       "    <tr>\n",
       "      <th>51</th>\n",
       "      <td>4.7</td>\n",
       "      <td>1.4</td>\n",
       "      <td>7.0</td>\n",
       "      <td>3.2</td>\n",
       "      <td>Iris-versicolor</td>\n",
       "    </tr>\n",
       "    <tr>\n",
       "      <th>52</th>\n",
       "      <td>4.5</td>\n",
       "      <td>1.5</td>\n",
       "      <td>6.4</td>\n",
       "      <td>3.2</td>\n",
       "      <td>Iris-versicolor</td>\n",
       "    </tr>\n",
       "    <tr>\n",
       "      <th>53</th>\n",
       "      <td>4.9</td>\n",
       "      <td>1.5</td>\n",
       "      <td>6.9</td>\n",
       "      <td>3.1</td>\n",
       "      <td>Iris-versicolor</td>\n",
       "    </tr>\n",
       "    <tr>\n",
       "      <th>54</th>\n",
       "      <td>4.0</td>\n",
       "      <td>1.3</td>\n",
       "      <td>5.5</td>\n",
       "      <td>2.3</td>\n",
       "      <td>Iris-versicolor</td>\n",
       "    </tr>\n",
       "    <tr>\n",
       "      <th>55</th>\n",
       "      <td>4.6</td>\n",
       "      <td>1.5</td>\n",
       "      <td>6.5</td>\n",
       "      <td>2.8</td>\n",
       "      <td>Iris-versicolor</td>\n",
       "    </tr>\n",
       "  </tbody>\n",
       "</table>\n",
       "</div>"
      ],
      "text/plain": [
       "   PetalLengthCm PetalWidthCm SepalLengthCm SepalWidthCm          Species\n",
       "Id                                                                       \n",
       "51           4.7          1.4           7.0          3.2  Iris-versicolor\n",
       "52           4.5          1.5           6.4          3.2  Iris-versicolor\n",
       "53           4.9          1.5           6.9          3.1  Iris-versicolor\n",
       "54           4.0          1.3           5.5          2.3  Iris-versicolor\n",
       "55           4.6          1.5           6.5          2.8  Iris-versicolor"
      ]
     },
     "execution_count": 21,
     "metadata": {},
     "output_type": "execute_result"
    }
   ],
   "source": [
    "df.head()"
   ]
  },
  {
   "cell_type": "code",
   "execution_count": null,
   "metadata": {},
   "outputs": [],
   "source": []
  }
 ],
 "metadata": {
  "kernelspec": {
   "display_name": "Python 3 (ipykernel)",
   "language": "python",
   "name": "python3"
  },
  "language_info": {
   "codemirror_mode": {
    "name": "ipython",
    "version": 3
   },
   "file_extension": ".py",
   "mimetype": "text/x-python",
   "name": "python",
   "nbconvert_exporter": "python",
   "pygments_lexer": "ipython3",
   "version": "3.10.6"
  }
 },
 "nbformat": 4,
 "nbformat_minor": 2
}
